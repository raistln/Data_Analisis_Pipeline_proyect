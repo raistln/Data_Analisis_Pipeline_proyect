{
 "cells": [
  {
   "cell_type": "code",
   "execution_count": 1,
   "metadata": {},
   "outputs": [],
   "source": [
    "import urllib3\n",
    "import os\n",
    "import pandas as pd\n",
    "import numpy as np\n",
    "import seaborn as sns\n",
    "import matplotlib.pyplot as plt\n",
    "import matplotlib.mlab as mlas\n",
    "import matplotlib\n"
   ]
  },
  {
   "cell_type": "code",
   "execution_count": 2,
   "metadata": {},
   "outputs": [],
   "source": [
    "plt.style.use(\"ggplot\")\n",
    "from matplotlib.pyplot import figure\n",
    "%matplotlib inline\n",
    "matplotlib.rcParams[\"figure.figsize\"] = (12,8)\n"
   ]
  },
  {
   "cell_type": "code",
   "execution_count": 3,
   "metadata": {},
   "outputs": [],
   "source": [
    "Download_Root = \"https://www.kaggle.com/teajay/global-shark-attacks?select=attacks.csv\"\n",
    "Data_Path = os.getcwd()\n",
    "Data_Url = Download_Root + \"datasets/\""
   ]
  },
  {
   "cell_type": "markdown",
   "metadata": {},
   "source": [
    "# Vistazo previo"
   ]
  },
  {
   "cell_type": "code",
   "execution_count": 4,
   "metadata": {},
   "outputs": [],
   "source": [
    "data = pd.read_csv('attacks.csv', encoding=\"ISO-8859-1\"\n",
    ")"
   ]
  },
  {
   "cell_type": "code",
   "execution_count": 5,
   "metadata": {},
   "outputs": [
    {
     "data": {
      "text/html": [
       "<div>\n",
       "<style scoped>\n",
       "    .dataframe tbody tr th:only-of-type {\n",
       "        vertical-align: middle;\n",
       "    }\n",
       "\n",
       "    .dataframe tbody tr th {\n",
       "        vertical-align: top;\n",
       "    }\n",
       "\n",
       "    .dataframe thead th {\n",
       "        text-align: right;\n",
       "    }\n",
       "</style>\n",
       "<table border=\"1\" class=\"dataframe\">\n",
       "  <thead>\n",
       "    <tr style=\"text-align: right;\">\n",
       "      <th></th>\n",
       "      <th>Case Number</th>\n",
       "      <th>Date</th>\n",
       "      <th>Year</th>\n",
       "      <th>Type</th>\n",
       "      <th>Country</th>\n",
       "      <th>Area</th>\n",
       "      <th>Location</th>\n",
       "      <th>Activity</th>\n",
       "      <th>Name</th>\n",
       "      <th>Sex</th>\n",
       "      <th>...</th>\n",
       "      <th>Species</th>\n",
       "      <th>Investigator or Source</th>\n",
       "      <th>pdf</th>\n",
       "      <th>href formula</th>\n",
       "      <th>href</th>\n",
       "      <th>Case Number.1</th>\n",
       "      <th>Case Number.2</th>\n",
       "      <th>original order</th>\n",
       "      <th>Unnamed: 22</th>\n",
       "      <th>Unnamed: 23</th>\n",
       "    </tr>\n",
       "  </thead>\n",
       "  <tbody>\n",
       "    <tr>\n",
       "      <th>0</th>\n",
       "      <td>2018.06.25</td>\n",
       "      <td>25-Jun-2018</td>\n",
       "      <td>2018.0</td>\n",
       "      <td>Boating</td>\n",
       "      <td>USA</td>\n",
       "      <td>California</td>\n",
       "      <td>Oceanside, San Diego County</td>\n",
       "      <td>Paddling</td>\n",
       "      <td>Julie Wolfe</td>\n",
       "      <td>F</td>\n",
       "      <td>...</td>\n",
       "      <td>White shark</td>\n",
       "      <td>R. Collier, GSAF</td>\n",
       "      <td>2018.06.25-Wolfe.pdf</td>\n",
       "      <td>http://sharkattackfile.net/spreadsheets/pdf_di...</td>\n",
       "      <td>http://sharkattackfile.net/spreadsheets/pdf_di...</td>\n",
       "      <td>2018.06.25</td>\n",
       "      <td>2018.06.25</td>\n",
       "      <td>6303.0</td>\n",
       "      <td>NaN</td>\n",
       "      <td>NaN</td>\n",
       "    </tr>\n",
       "    <tr>\n",
       "      <th>1</th>\n",
       "      <td>2018.06.18</td>\n",
       "      <td>18-Jun-2018</td>\n",
       "      <td>2018.0</td>\n",
       "      <td>Unprovoked</td>\n",
       "      <td>USA</td>\n",
       "      <td>Georgia</td>\n",
       "      <td>St. Simon Island, Glynn County</td>\n",
       "      <td>Standing</td>\n",
       "      <td>Adyson McNeely</td>\n",
       "      <td>F</td>\n",
       "      <td>...</td>\n",
       "      <td>NaN</td>\n",
       "      <td>K.McMurray, TrackingSharks.com</td>\n",
       "      <td>2018.06.18-McNeely.pdf</td>\n",
       "      <td>http://sharkattackfile.net/spreadsheets/pdf_di...</td>\n",
       "      <td>http://sharkattackfile.net/spreadsheets/pdf_di...</td>\n",
       "      <td>2018.06.18</td>\n",
       "      <td>2018.06.18</td>\n",
       "      <td>6302.0</td>\n",
       "      <td>NaN</td>\n",
       "      <td>NaN</td>\n",
       "    </tr>\n",
       "    <tr>\n",
       "      <th>2</th>\n",
       "      <td>2018.06.09</td>\n",
       "      <td>09-Jun-2018</td>\n",
       "      <td>2018.0</td>\n",
       "      <td>Invalid</td>\n",
       "      <td>USA</td>\n",
       "      <td>Hawaii</td>\n",
       "      <td>Habush, Oahu</td>\n",
       "      <td>Surfing</td>\n",
       "      <td>John Denges</td>\n",
       "      <td>M</td>\n",
       "      <td>...</td>\n",
       "      <td>NaN</td>\n",
       "      <td>K.McMurray, TrackingSharks.com</td>\n",
       "      <td>2018.06.09-Denges.pdf</td>\n",
       "      <td>http://sharkattackfile.net/spreadsheets/pdf_di...</td>\n",
       "      <td>http://sharkattackfile.net/spreadsheets/pdf_di...</td>\n",
       "      <td>2018.06.09</td>\n",
       "      <td>2018.06.09</td>\n",
       "      <td>6301.0</td>\n",
       "      <td>NaN</td>\n",
       "      <td>NaN</td>\n",
       "    </tr>\n",
       "    <tr>\n",
       "      <th>3</th>\n",
       "      <td>2018.06.08</td>\n",
       "      <td>08-Jun-2018</td>\n",
       "      <td>2018.0</td>\n",
       "      <td>Unprovoked</td>\n",
       "      <td>AUSTRALIA</td>\n",
       "      <td>New South Wales</td>\n",
       "      <td>Arrawarra Headland</td>\n",
       "      <td>Surfing</td>\n",
       "      <td>male</td>\n",
       "      <td>M</td>\n",
       "      <td>...</td>\n",
       "      <td>2 m shark</td>\n",
       "      <td>B. Myatt, GSAF</td>\n",
       "      <td>2018.06.08-Arrawarra.pdf</td>\n",
       "      <td>http://sharkattackfile.net/spreadsheets/pdf_di...</td>\n",
       "      <td>http://sharkattackfile.net/spreadsheets/pdf_di...</td>\n",
       "      <td>2018.06.08</td>\n",
       "      <td>2018.06.08</td>\n",
       "      <td>6300.0</td>\n",
       "      <td>NaN</td>\n",
       "      <td>NaN</td>\n",
       "    </tr>\n",
       "    <tr>\n",
       "      <th>4</th>\n",
       "      <td>2018.06.04</td>\n",
       "      <td>04-Jun-2018</td>\n",
       "      <td>2018.0</td>\n",
       "      <td>Provoked</td>\n",
       "      <td>MEXICO</td>\n",
       "      <td>Colima</td>\n",
       "      <td>La Ticla</td>\n",
       "      <td>Free diving</td>\n",
       "      <td>Gustavo Ramos</td>\n",
       "      <td>M</td>\n",
       "      <td>...</td>\n",
       "      <td>Tiger shark, 3m</td>\n",
       "      <td>A .Kipper</td>\n",
       "      <td>2018.06.04-Ramos.pdf</td>\n",
       "      <td>http://sharkattackfile.net/spreadsheets/pdf_di...</td>\n",
       "      <td>http://sharkattackfile.net/spreadsheets/pdf_di...</td>\n",
       "      <td>2018.06.04</td>\n",
       "      <td>2018.06.04</td>\n",
       "      <td>6299.0</td>\n",
       "      <td>NaN</td>\n",
       "      <td>NaN</td>\n",
       "    </tr>\n",
       "  </tbody>\n",
       "</table>\n",
       "<p>5 rows × 24 columns</p>\n",
       "</div>"
      ],
      "text/plain": [
       "  Case Number         Date    Year        Type    Country             Area  \\\n",
       "0  2018.06.25  25-Jun-2018  2018.0     Boating        USA       California   \n",
       "1  2018.06.18  18-Jun-2018  2018.0  Unprovoked        USA          Georgia   \n",
       "2  2018.06.09  09-Jun-2018  2018.0     Invalid        USA           Hawaii   \n",
       "3  2018.06.08  08-Jun-2018  2018.0  Unprovoked  AUSTRALIA  New South Wales   \n",
       "4  2018.06.04  04-Jun-2018  2018.0    Provoked     MEXICO           Colima   \n",
       "\n",
       "                         Location     Activity             Name Sex   ...  \\\n",
       "0     Oceanside, San Diego County     Paddling      Julie Wolfe    F  ...   \n",
       "1  St. Simon Island, Glynn County     Standing  Adyson McNeely     F  ...   \n",
       "2                    Habush, Oahu      Surfing      John Denges    M  ...   \n",
       "3              Arrawarra Headland      Surfing             male    M  ...   \n",
       "4                        La Ticla  Free diving   Gustavo Ramos     M  ...   \n",
       "\n",
       "          Species           Investigator or Source                       pdf  \\\n",
       "0      White shark                R. Collier, GSAF      2018.06.25-Wolfe.pdf   \n",
       "1              NaN  K.McMurray, TrackingSharks.com    2018.06.18-McNeely.pdf   \n",
       "2              NaN  K.McMurray, TrackingSharks.com     2018.06.09-Denges.pdf   \n",
       "3        2 m shark                  B. Myatt, GSAF  2018.06.08-Arrawarra.pdf   \n",
       "4  Tiger shark, 3m                       A .Kipper      2018.06.04-Ramos.pdf   \n",
       "\n",
       "                                        href formula  \\\n",
       "0  http://sharkattackfile.net/spreadsheets/pdf_di...   \n",
       "1  http://sharkattackfile.net/spreadsheets/pdf_di...   \n",
       "2  http://sharkattackfile.net/spreadsheets/pdf_di...   \n",
       "3  http://sharkattackfile.net/spreadsheets/pdf_di...   \n",
       "4  http://sharkattackfile.net/spreadsheets/pdf_di...   \n",
       "\n",
       "                                                href Case Number.1  \\\n",
       "0  http://sharkattackfile.net/spreadsheets/pdf_di...    2018.06.25   \n",
       "1  http://sharkattackfile.net/spreadsheets/pdf_di...    2018.06.18   \n",
       "2  http://sharkattackfile.net/spreadsheets/pdf_di...    2018.06.09   \n",
       "3  http://sharkattackfile.net/spreadsheets/pdf_di...    2018.06.08   \n",
       "4  http://sharkattackfile.net/spreadsheets/pdf_di...    2018.06.04   \n",
       "\n",
       "  Case Number.2 original order Unnamed: 22 Unnamed: 23  \n",
       "0    2018.06.25         6303.0         NaN         NaN  \n",
       "1    2018.06.18         6302.0         NaN         NaN  \n",
       "2    2018.06.09         6301.0         NaN         NaN  \n",
       "3    2018.06.08         6300.0         NaN         NaN  \n",
       "4    2018.06.04         6299.0         NaN         NaN  \n",
       "\n",
       "[5 rows x 24 columns]"
      ]
     },
     "execution_count": 5,
     "metadata": {},
     "output_type": "execute_result"
    }
   ],
   "source": [
    "data.head()"
   ]
  },
  {
   "cell_type": "code",
   "execution_count": 6,
   "metadata": {},
   "outputs": [
    {
     "name": "stdout",
     "output_type": "stream",
     "text": [
      "<class 'pandas.core.frame.DataFrame'>\n",
      "RangeIndex: 25723 entries, 0 to 25722\n",
      "Data columns (total 24 columns):\n",
      " #   Column                  Non-Null Count  Dtype  \n",
      "---  ------                  --------------  -----  \n",
      " 0   Case Number             8702 non-null   object \n",
      " 1   Date                    6302 non-null   object \n",
      " 2   Year                    6300 non-null   float64\n",
      " 3   Type                    6298 non-null   object \n",
      " 4   Country                 6252 non-null   object \n",
      " 5   Area                    5847 non-null   object \n",
      " 6   Location                5762 non-null   object \n",
      " 7   Activity                5758 non-null   object \n",
      " 8   Name                    6092 non-null   object \n",
      " 9   Sex                     5737 non-null   object \n",
      " 10  Age                     3471 non-null   object \n",
      " 11  Injury                  6274 non-null   object \n",
      " 12  Fatal (Y/N)             5763 non-null   object \n",
      " 13  Time                    2948 non-null   object \n",
      " 14  Species                 3464 non-null   object \n",
      " 15  Investigator or Source  6285 non-null   object \n",
      " 16  pdf                     6302 non-null   object \n",
      " 17  href formula            6301 non-null   object \n",
      " 18  href                    6302 non-null   object \n",
      " 19  Case Number.1           6302 non-null   object \n",
      " 20  Case Number.2           6302 non-null   object \n",
      " 21  original order          6309 non-null   float64\n",
      " 22  Unnamed: 22             1 non-null      object \n",
      " 23  Unnamed: 23             2 non-null      object \n",
      "dtypes: float64(2), object(22)\n",
      "memory usage: 4.7+ MB\n"
     ]
    }
   ],
   "source": [
    "data.info()"
   ]
  },
  {
   "cell_type": "code",
   "execution_count": 7,
   "metadata": {},
   "outputs": [
    {
     "data": {
      "text/plain": [
       "Index(['Case Number', 'Date', 'Year', 'Type', 'Country', 'Area', 'Location',\n",
       "       'Activity', 'Name', 'Sex ', 'Age', 'Injury', 'Fatal (Y/N)', 'Time',\n",
       "       'Species ', 'Investigator or Source', 'pdf', 'href formula', 'href',\n",
       "       'Case Number.1', 'Case Number.2', 'original order', 'Unnamed: 22',\n",
       "       'Unnamed: 23'],\n",
       "      dtype='object')"
      ]
     },
     "execution_count": 7,
     "metadata": {},
     "output_type": "execute_result"
    }
   ],
   "source": [
    "data.columns"
   ]
  },
  {
   "cell_type": "code",
   "execution_count": 8,
   "metadata": {},
   "outputs": [
    {
     "data": {
      "text/plain": [
       "White shark                                                                  163\n",
       "Shark involvement prior to death was not confirmed                           105\n",
       "Invalid                                                                      102\n",
       "Shark involvement not confirmed                                               88\n",
       "Tiger shark                                                                   73\n",
       "                                                                            ... \n",
       "2.1 m [7'] shark, possibly a spinner shark                                     1\n",
       "Shark involvement prior to deaths unconfirmed                                  1\n",
       "1.8 m [6'] reef shark - or a 2.1 m to 2.4 m [7' to 8'] grey-colored shark      1\n",
       "Shortfin mako shark, 3 m to 3.4 m [10' to 11']                                 1\n",
       "Raggedtooth shark, 2.7 m [9']                                                  1\n",
       "Name: Species , Length: 1549, dtype: int64"
      ]
     },
     "execution_count": 8,
     "metadata": {},
     "output_type": "execute_result"
    }
   ],
   "source": [
    "data[\"Species \"].value_counts()"
   ]
  },
  {
   "cell_type": "code",
   "execution_count": 9,
   "metadata": {},
   "outputs": [
    {
     "data": {
      "text/plain": [
       "(25723, 24)"
      ]
     },
     "execution_count": 9,
     "metadata": {},
     "output_type": "execute_result"
    }
   ],
   "source": [
    "data.describe()\n",
    "data.shape"
   ]
  },
  {
   "cell_type": "code",
   "execution_count": 10,
   "metadata": {},
   "outputs": [
    {
     "data": {
      "text/plain": [
       "array(['Year', 'original order'], dtype=object)"
      ]
     },
     "execution_count": 10,
     "metadata": {},
     "output_type": "execute_result"
    }
   ],
   "source": [
    "data_numeric = data.select_dtypes(include = [np.number])\n",
    "numeric_cols = data_numeric.columns.values\n",
    "numeric_cols"
   ]
  },
  {
   "cell_type": "code",
   "execution_count": 11,
   "metadata": {},
   "outputs": [
    {
     "data": {
      "text/plain": [
       "['Case Number',\n",
       " 'Date',\n",
       " 'Type',\n",
       " 'Country',\n",
       " 'Area',\n",
       " 'Location',\n",
       " 'Activity',\n",
       " 'Name',\n",
       " 'Sex ',\n",
       " 'Age',\n",
       " 'Injury',\n",
       " 'Fatal (Y/N)',\n",
       " 'Time',\n",
       " 'Species ',\n",
       " 'Investigator or Source',\n",
       " 'pdf',\n",
       " 'href formula',\n",
       " 'href',\n",
       " 'Case Number.1',\n",
       " 'Case Number.2',\n",
       " 'Unnamed: 22',\n",
       " 'Unnamed: 23']"
      ]
     },
     "execution_count": 11,
     "metadata": {},
     "output_type": "execute_result"
    }
   ],
   "source": [
    "data_non_numeric = data.select_dtypes(exclude = [np.number])\n",
    "non_numeric_cols = data_non_numeric.columns.values.tolist()\n",
    "non_numeric_cols"
   ]
  },
  {
   "cell_type": "code",
   "execution_count": 12,
   "metadata": {},
   "outputs": [
    {
     "data": {
      "image/png": "[encoded data removed]",
      "text/plain": [
       "<Figure size 1440x1080 with 2 Axes>"
      ]
     },
     "metadata": {
      "needs_background": "light"
     },
     "output_type": "display_data"
    }
   ],
   "source": [
    "%matplotlib inline\n",
    "data.hist(bins=50, figsize =(20,15))\n",
    "plt.show()"
   ]
  },
  {
   "cell_type": "markdown",
   "metadata": {},
   "source": [
    "# Detección de nulos y filtrado"
   ]
  },
  {
   "cell_type": "code",
   "execution_count": 13,
   "metadata": {},
   "outputs": [
    {
     "data": {
      "text/plain": [
       "<AxesSubplot:>"
      ]
     },
     "execution_count": 13,
     "metadata": {},
     "output_type": "execute_result"
    },
    {
     "data": {
      "image/png": "[encoded data removed]",
      "text/plain": [
       "<Figure size 432x288 with 2 Axes>"
      ]
     },
     "metadata": {
      "needs_background": "light"
     },
     "output_type": "display_data"
    }
   ],
   "source": [
    "cols = data.columns\n",
    "colors = [\"#000099\", \"#ffff00\"]\n",
    "sns.heatmap(data[cols].isnull(), cmap=sns.color_palette(colors))"
   ]
  },
  {
   "cell_type": "code",
   "execution_count": 14,
   "metadata": {},
   "outputs": [
    {
     "name": "stdout",
     "output_type": "stream",
     "text": [
      "Case Number - 66\n",
      "Date - 76\n",
      "Year - 76\n",
      "Type - 76\n",
      "Country - 76\n",
      "Area - 77\n",
      "Location - 78\n",
      "Activity - 78\n",
      "Name - 76\n",
      "Sex  - 78\n",
      "Age - 87\n",
      "Injury - 76\n",
      "Fatal (Y/N) - 78\n",
      "Time - 89\n",
      "Species  - 87\n",
      "Investigator or Source - 76\n",
      "pdf - 76\n",
      "href formula - 76\n",
      "href - 76\n",
      "Case Number.1 - 76\n",
      "Case Number.2 - 76\n",
      "original order - 75\n",
      "Unnamed: 22 - 100\n",
      "Unnamed: 23 - 100\n"
     ]
    }
   ],
   "source": [
    "for col in data.columns:\n",
    "    pct_missing = np.mean(data[col].isnull())\n",
    "    print(f\"{col} - {round(pct_missing*100)}\")"
   ]
  },
  {
   "cell_type": "code",
   "execution_count": 15,
   "metadata": {},
   "outputs": [
    {
     "name": "stdout",
     "output_type": "stream",
     "text": [
      "created missing indicator for: Case Number\n",
      "created missing indicator for: Date\n",
      "created missing indicator for: Year\n",
      "created missing indicator for: Type\n",
      "created missing indicator for: Country\n",
      "created missing indicator for: Area\n",
      "created missing indicator for: Location\n",
      "created missing indicator for: Activity\n",
      "created missing indicator for: Name\n",
      "created missing indicator for: Sex \n",
      "created missing indicator for: Age\n",
      "created missing indicator for: Injury\n",
      "created missing indicator for: Fatal (Y/N)\n",
      "created missing indicator for: Time\n",
      "created missing indicator for: Species \n",
      "created missing indicator for: Investigator or Source\n",
      "created missing indicator for: pdf\n",
      "created missing indicator for: href formula\n",
      "created missing indicator for: href\n",
      "created missing indicator for: Case Number.1\n",
      "created missing indicator for: Case Number.2\n",
      "created missing indicator for: original order\n",
      "created missing indicator for: Unnamed: 22\n",
      "created missing indicator for: Unnamed: 23\n"
     ]
    },
    {
     "data": {
      "text/plain": [
       "<AxesSubplot:xlabel='index'>"
      ]
     },
     "execution_count": 15,
     "metadata": {},
     "output_type": "execute_result"
    },
    {
     "data": {
      "image/png": "[encoded data removed]",
      "text/plain": [
       "<Figure size 432x288 with 1 Axes>"
      ]
     },
     "metadata": {
      "needs_background": "light"
     },
     "output_type": "display_data"
    }
   ],
   "source": [
    "for col in data.columns:\n",
    "    missing = data[col].isnull()\n",
    "    num_missing = np.sum(missing)\n",
    "    if num_missing > 0:\n",
    "        print(f\"created missing indicator for: {col}\")\n",
    "        data[f\"{col}_is_missing\"] = missing\n",
    "is_missing_cols = [col for col in data.columns if \"is_missing\" in col]\n",
    "data[\"num_missing\"] = data[is_missing_cols].sum(axis = 1)\n",
    "data[\"num_missing\"].value_counts().reset_index().sort_values(by=\"index\").plot.bar(x = \"index\", y = \"num_missing\")"
   ]
  },
  {
   "cell_type": "code",
   "execution_count": 16,
   "metadata": {},
   "outputs": [
    {
     "data": {
      "text/html": [
       "<div>\n",
       "<style scoped>\n",
       "    .dataframe tbody tr th:only-of-type {\n",
       "        vertical-align: middle;\n",
       "    }\n",
       "\n",
       "    .dataframe tbody tr th {\n",
       "        vertical-align: top;\n",
       "    }\n",
       "\n",
       "    .dataframe thead th {\n",
       "        text-align: right;\n",
       "    }\n",
       "</style>\n",
       "<table border=\"1\" class=\"dataframe\">\n",
       "  <thead>\n",
       "    <tr style=\"text-align: right;\">\n",
       "      <th></th>\n",
       "      <th>Case Number</th>\n",
       "      <th>Date</th>\n",
       "      <th>Year</th>\n",
       "      <th>Type</th>\n",
       "      <th>Country</th>\n",
       "      <th>Area</th>\n",
       "      <th>Location</th>\n",
       "      <th>Activity</th>\n",
       "      <th>Name</th>\n",
       "      <th>Sex</th>\n",
       "      <th>...</th>\n",
       "      <th>Investigator or Source_is_missing</th>\n",
       "      <th>pdf_is_missing</th>\n",
       "      <th>href formula_is_missing</th>\n",
       "      <th>href_is_missing</th>\n",
       "      <th>Case Number.1_is_missing</th>\n",
       "      <th>Case Number.2_is_missing</th>\n",
       "      <th>original order_is_missing</th>\n",
       "      <th>Unnamed: 22_is_missing</th>\n",
       "      <th>Unnamed: 23_is_missing</th>\n",
       "      <th>num_missing</th>\n",
       "    </tr>\n",
       "  </thead>\n",
       "  <tbody>\n",
       "    <tr>\n",
       "      <th>0</th>\n",
       "      <td>2018.06.25</td>\n",
       "      <td>25-Jun-2018</td>\n",
       "      <td>2018.0</td>\n",
       "      <td>Boating</td>\n",
       "      <td>USA</td>\n",
       "      <td>California</td>\n",
       "      <td>Oceanside, San Diego County</td>\n",
       "      <td>Paddling</td>\n",
       "      <td>Julie Wolfe</td>\n",
       "      <td>F</td>\n",
       "      <td>...</td>\n",
       "      <td>False</td>\n",
       "      <td>False</td>\n",
       "      <td>False</td>\n",
       "      <td>False</td>\n",
       "      <td>False</td>\n",
       "      <td>False</td>\n",
       "      <td>False</td>\n",
       "      <td>True</td>\n",
       "      <td>True</td>\n",
       "      <td>2</td>\n",
       "    </tr>\n",
       "    <tr>\n",
       "      <th>1</th>\n",
       "      <td>2018.06.18</td>\n",
       "      <td>18-Jun-2018</td>\n",
       "      <td>2018.0</td>\n",
       "      <td>Unprovoked</td>\n",
       "      <td>USA</td>\n",
       "      <td>Georgia</td>\n",
       "      <td>St. Simon Island, Glynn County</td>\n",
       "      <td>Standing</td>\n",
       "      <td>Adyson McNeely</td>\n",
       "      <td>F</td>\n",
       "      <td>...</td>\n",
       "      <td>False</td>\n",
       "      <td>False</td>\n",
       "      <td>False</td>\n",
       "      <td>False</td>\n",
       "      <td>False</td>\n",
       "      <td>False</td>\n",
       "      <td>False</td>\n",
       "      <td>True</td>\n",
       "      <td>True</td>\n",
       "      <td>3</td>\n",
       "    </tr>\n",
       "    <tr>\n",
       "      <th>2</th>\n",
       "      <td>2018.06.09</td>\n",
       "      <td>09-Jun-2018</td>\n",
       "      <td>2018.0</td>\n",
       "      <td>Invalid</td>\n",
       "      <td>USA</td>\n",
       "      <td>Hawaii</td>\n",
       "      <td>Habush, Oahu</td>\n",
       "      <td>Surfing</td>\n",
       "      <td>John Denges</td>\n",
       "      <td>M</td>\n",
       "      <td>...</td>\n",
       "      <td>False</td>\n",
       "      <td>False</td>\n",
       "      <td>False</td>\n",
       "      <td>False</td>\n",
       "      <td>False</td>\n",
       "      <td>False</td>\n",
       "      <td>False</td>\n",
       "      <td>True</td>\n",
       "      <td>True</td>\n",
       "      <td>3</td>\n",
       "    </tr>\n",
       "    <tr>\n",
       "      <th>3</th>\n",
       "      <td>2018.06.08</td>\n",
       "      <td>08-Jun-2018</td>\n",
       "      <td>2018.0</td>\n",
       "      <td>Unprovoked</td>\n",
       "      <td>AUSTRALIA</td>\n",
       "      <td>New South Wales</td>\n",
       "      <td>Arrawarra Headland</td>\n",
       "      <td>Surfing</td>\n",
       "      <td>male</td>\n",
       "      <td>M</td>\n",
       "      <td>...</td>\n",
       "      <td>False</td>\n",
       "      <td>False</td>\n",
       "      <td>False</td>\n",
       "      <td>False</td>\n",
       "      <td>False</td>\n",
       "      <td>False</td>\n",
       "      <td>False</td>\n",
       "      <td>True</td>\n",
       "      <td>True</td>\n",
       "      <td>4</td>\n",
       "    </tr>\n",
       "    <tr>\n",
       "      <th>4</th>\n",
       "      <td>2018.06.04</td>\n",
       "      <td>04-Jun-2018</td>\n",
       "      <td>2018.0</td>\n",
       "      <td>Provoked</td>\n",
       "      <td>MEXICO</td>\n",
       "      <td>Colima</td>\n",
       "      <td>La Ticla</td>\n",
       "      <td>Free diving</td>\n",
       "      <td>Gustavo Ramos</td>\n",
       "      <td>M</td>\n",
       "      <td>...</td>\n",
       "      <td>False</td>\n",
       "      <td>False</td>\n",
       "      <td>False</td>\n",
       "      <td>False</td>\n",
       "      <td>False</td>\n",
       "      <td>False</td>\n",
       "      <td>False</td>\n",
       "      <td>True</td>\n",
       "      <td>True</td>\n",
       "      <td>4</td>\n",
       "    </tr>\n",
       "  </tbody>\n",
       "</table>\n",
       "<p>5 rows × 49 columns</p>\n",
       "</div>"
      ],
      "text/plain": [
       "  Case Number         Date    Year        Type    Country             Area  \\\n",
       "0  2018.06.25  25-Jun-2018  2018.0     Boating        USA       California   \n",
       "1  2018.06.18  18-Jun-2018  2018.0  Unprovoked        USA          Georgia   \n",
       "2  2018.06.09  09-Jun-2018  2018.0     Invalid        USA           Hawaii   \n",
       "3  2018.06.08  08-Jun-2018  2018.0  Unprovoked  AUSTRALIA  New South Wales   \n",
       "4  2018.06.04  04-Jun-2018  2018.0    Provoked     MEXICO           Colima   \n",
       "\n",
       "                         Location     Activity             Name Sex   ...  \\\n",
       "0     Oceanside, San Diego County     Paddling      Julie Wolfe    F  ...   \n",
       "1  St. Simon Island, Glynn County     Standing  Adyson McNeely     F  ...   \n",
       "2                    Habush, Oahu      Surfing      John Denges    M  ...   \n",
       "3              Arrawarra Headland      Surfing             male    M  ...   \n",
       "4                        La Ticla  Free diving   Gustavo Ramos     M  ...   \n",
       "\n",
       "  Investigator or Source_is_missing pdf_is_missing href formula_is_missing  \\\n",
       "0                             False          False                   False   \n",
       "1                             False          False                   False   \n",
       "2                             False          False                   False   \n",
       "3                             False          False                   False   \n",
       "4                             False          False                   False   \n",
       "\n",
       "  href_is_missing Case Number.1_is_missing Case Number.2_is_missing  \\\n",
       "0           False                    False                    False   \n",
       "1           False                    False                    False   \n",
       "2           False                    False                    False   \n",
       "3           False                    False                    False   \n",
       "4           False                    False                    False   \n",
       "\n",
       "  original order_is_missing Unnamed: 22_is_missing Unnamed: 23_is_missing  \\\n",
       "0                     False                   True                   True   \n",
       "1                     False                   True                   True   \n",
       "2                     False                   True                   True   \n",
       "3                     False                   True                   True   \n",
       "4                     False                   True                   True   \n",
       "\n",
       "  num_missing  \n",
       "0           2  \n",
       "1           3  \n",
       "2           3  \n",
       "3           4  \n",
       "4           4  \n",
       "\n",
       "[5 rows x 49 columns]"
      ]
     },
     "execution_count": 16,
     "metadata": {},
     "output_type": "execute_result"
    }
   ],
   "source": [
    "ind_missing = data[data[\"num_missing\"]>10].index\n",
    "data_less_missing_rows = data.drop(ind_missing, axis = 0)\n",
    "data_less_missing_rows.head()\n"
   ]
  },
  {
   "cell_type": "code",
   "execution_count": 17,
   "metadata": {},
   "outputs": [
    {
     "data": {
      "text/html": [
       "<div>\n",
       "<style scoped>\n",
       "    .dataframe tbody tr th:only-of-type {\n",
       "        vertical-align: middle;\n",
       "    }\n",
       "\n",
       "    .dataframe tbody tr th {\n",
       "        vertical-align: top;\n",
       "    }\n",
       "\n",
       "    .dataframe thead th {\n",
       "        text-align: right;\n",
       "    }\n",
       "</style>\n",
       "<table border=\"1\" class=\"dataframe\">\n",
       "  <thead>\n",
       "    <tr style=\"text-align: right;\">\n",
       "      <th></th>\n",
       "      <th>Case Number</th>\n",
       "      <th>Date</th>\n",
       "      <th>Year</th>\n",
       "      <th>Type</th>\n",
       "      <th>Country</th>\n",
       "      <th>Area</th>\n",
       "      <th>Location</th>\n",
       "      <th>Activity</th>\n",
       "      <th>Name</th>\n",
       "      <th>Sex</th>\n",
       "      <th>...</th>\n",
       "      <th>Species</th>\n",
       "      <th>Investigator or Source</th>\n",
       "      <th>pdf</th>\n",
       "      <th>href formula</th>\n",
       "      <th>href</th>\n",
       "      <th>Case Number.1</th>\n",
       "      <th>Case Number.2</th>\n",
       "      <th>original order</th>\n",
       "      <th>Unnamed: 22</th>\n",
       "      <th>Unnamed: 23</th>\n",
       "    </tr>\n",
       "  </thead>\n",
       "  <tbody>\n",
       "    <tr>\n",
       "      <th>0</th>\n",
       "      <td>2018.06.25</td>\n",
       "      <td>25-Jun-2018</td>\n",
       "      <td>2018.0</td>\n",
       "      <td>Boating</td>\n",
       "      <td>USA</td>\n",
       "      <td>California</td>\n",
       "      <td>Oceanside, San Diego County</td>\n",
       "      <td>Paddling</td>\n",
       "      <td>Julie Wolfe</td>\n",
       "      <td>F</td>\n",
       "      <td>...</td>\n",
       "      <td>White shark</td>\n",
       "      <td>R. Collier, GSAF</td>\n",
       "      <td>2018.06.25-Wolfe.pdf</td>\n",
       "      <td>http://sharkattackfile.net/spreadsheets/pdf_di...</td>\n",
       "      <td>http://sharkattackfile.net/spreadsheets/pdf_di...</td>\n",
       "      <td>2018.06.25</td>\n",
       "      <td>2018.06.25</td>\n",
       "      <td>6303.0</td>\n",
       "      <td>NaN</td>\n",
       "      <td>NaN</td>\n",
       "    </tr>\n",
       "    <tr>\n",
       "      <th>1</th>\n",
       "      <td>2018.06.18</td>\n",
       "      <td>18-Jun-2018</td>\n",
       "      <td>2018.0</td>\n",
       "      <td>Unprovoked</td>\n",
       "      <td>USA</td>\n",
       "      <td>Georgia</td>\n",
       "      <td>St. Simon Island, Glynn County</td>\n",
       "      <td>Standing</td>\n",
       "      <td>Adyson McNeely</td>\n",
       "      <td>F</td>\n",
       "      <td>...</td>\n",
       "      <td>NaN</td>\n",
       "      <td>K.McMurray, TrackingSharks.com</td>\n",
       "      <td>2018.06.18-McNeely.pdf</td>\n",
       "      <td>http://sharkattackfile.net/spreadsheets/pdf_di...</td>\n",
       "      <td>http://sharkattackfile.net/spreadsheets/pdf_di...</td>\n",
       "      <td>2018.06.18</td>\n",
       "      <td>2018.06.18</td>\n",
       "      <td>6302.0</td>\n",
       "      <td>NaN</td>\n",
       "      <td>NaN</td>\n",
       "    </tr>\n",
       "    <tr>\n",
       "      <th>2</th>\n",
       "      <td>2018.06.09</td>\n",
       "      <td>09-Jun-2018</td>\n",
       "      <td>2018.0</td>\n",
       "      <td>Invalid</td>\n",
       "      <td>USA</td>\n",
       "      <td>Hawaii</td>\n",
       "      <td>Habush, Oahu</td>\n",
       "      <td>Surfing</td>\n",
       "      <td>John Denges</td>\n",
       "      <td>M</td>\n",
       "      <td>...</td>\n",
       "      <td>NaN</td>\n",
       "      <td>K.McMurray, TrackingSharks.com</td>\n",
       "      <td>2018.06.09-Denges.pdf</td>\n",
       "      <td>http://sharkattackfile.net/spreadsheets/pdf_di...</td>\n",
       "      <td>http://sharkattackfile.net/spreadsheets/pdf_di...</td>\n",
       "      <td>2018.06.09</td>\n",
       "      <td>2018.06.09</td>\n",
       "      <td>6301.0</td>\n",
       "      <td>NaN</td>\n",
       "      <td>NaN</td>\n",
       "    </tr>\n",
       "    <tr>\n",
       "      <th>3</th>\n",
       "      <td>2018.06.08</td>\n",
       "      <td>08-Jun-2018</td>\n",
       "      <td>2018.0</td>\n",
       "      <td>Unprovoked</td>\n",
       "      <td>AUSTRALIA</td>\n",
       "      <td>New South Wales</td>\n",
       "      <td>Arrawarra Headland</td>\n",
       "      <td>Surfing</td>\n",
       "      <td>male</td>\n",
       "      <td>M</td>\n",
       "      <td>...</td>\n",
       "      <td>2 m shark</td>\n",
       "      <td>B. Myatt, GSAF</td>\n",
       "      <td>2018.06.08-Arrawarra.pdf</td>\n",
       "      <td>http://sharkattackfile.net/spreadsheets/pdf_di...</td>\n",
       "      <td>http://sharkattackfile.net/spreadsheets/pdf_di...</td>\n",
       "      <td>2018.06.08</td>\n",
       "      <td>2018.06.08</td>\n",
       "      <td>6300.0</td>\n",
       "      <td>NaN</td>\n",
       "      <td>NaN</td>\n",
       "    </tr>\n",
       "    <tr>\n",
       "      <th>4</th>\n",
       "      <td>2018.06.04</td>\n",
       "      <td>04-Jun-2018</td>\n",
       "      <td>2018.0</td>\n",
       "      <td>Provoked</td>\n",
       "      <td>MEXICO</td>\n",
       "      <td>Colima</td>\n",
       "      <td>La Ticla</td>\n",
       "      <td>Free diving</td>\n",
       "      <td>Gustavo Ramos</td>\n",
       "      <td>M</td>\n",
       "      <td>...</td>\n",
       "      <td>Tiger shark, 3m</td>\n",
       "      <td>A .Kipper</td>\n",
       "      <td>2018.06.04-Ramos.pdf</td>\n",
       "      <td>http://sharkattackfile.net/spreadsheets/pdf_di...</td>\n",
       "      <td>http://sharkattackfile.net/spreadsheets/pdf_di...</td>\n",
       "      <td>2018.06.04</td>\n",
       "      <td>2018.06.04</td>\n",
       "      <td>6299.0</td>\n",
       "      <td>NaN</td>\n",
       "      <td>NaN</td>\n",
       "    </tr>\n",
       "    <tr>\n",
       "      <th>...</th>\n",
       "      <td>...</td>\n",
       "      <td>...</td>\n",
       "      <td>...</td>\n",
       "      <td>...</td>\n",
       "      <td>...</td>\n",
       "      <td>...</td>\n",
       "      <td>...</td>\n",
       "      <td>...</td>\n",
       "      <td>...</td>\n",
       "      <td>...</td>\n",
       "      <td>...</td>\n",
       "      <td>...</td>\n",
       "      <td>...</td>\n",
       "      <td>...</td>\n",
       "      <td>...</td>\n",
       "      <td>...</td>\n",
       "      <td>...</td>\n",
       "      <td>...</td>\n",
       "      <td>...</td>\n",
       "      <td>...</td>\n",
       "      <td>...</td>\n",
       "    </tr>\n",
       "    <tr>\n",
       "      <th>6297</th>\n",
       "      <td>ND.0005</td>\n",
       "      <td>Before 1903</td>\n",
       "      <td>0.0</td>\n",
       "      <td>Unprovoked</td>\n",
       "      <td>AUSTRALIA</td>\n",
       "      <td>Western Australia</td>\n",
       "      <td>Roebuck Bay</td>\n",
       "      <td>Diving</td>\n",
       "      <td>male</td>\n",
       "      <td>M</td>\n",
       "      <td>...</td>\n",
       "      <td>NaN</td>\n",
       "      <td>H. Taunton; N. Bartlett,  p. 234</td>\n",
       "      <td>ND-0005-RoebuckBay.pdf</td>\n",
       "      <td>http://sharkattackfile.net/spreadsheets/pdf_di...</td>\n",
       "      <td>http://sharkattackfile.net/spreadsheets/pdf_di...</td>\n",
       "      <td>ND.0005</td>\n",
       "      <td>ND.0005</td>\n",
       "      <td>6.0</td>\n",
       "      <td>NaN</td>\n",
       "      <td>NaN</td>\n",
       "    </tr>\n",
       "    <tr>\n",
       "      <th>6298</th>\n",
       "      <td>ND.0004</td>\n",
       "      <td>Before 1903</td>\n",
       "      <td>0.0</td>\n",
       "      <td>Unprovoked</td>\n",
       "      <td>AUSTRALIA</td>\n",
       "      <td>Western Australia</td>\n",
       "      <td>NaN</td>\n",
       "      <td>Pearl diving</td>\n",
       "      <td>Ahmun</td>\n",
       "      <td>M</td>\n",
       "      <td>...</td>\n",
       "      <td>NaN</td>\n",
       "      <td>H. Taunton; N. Bartlett,  pp. 233-234</td>\n",
       "      <td>ND-0004-Ahmun.pdf</td>\n",
       "      <td>http://sharkattackfile.net/spreadsheets/pdf_di...</td>\n",
       "      <td>http://sharkattackfile.net/spreadsheets/pdf_di...</td>\n",
       "      <td>ND.0004</td>\n",
       "      <td>ND.0004</td>\n",
       "      <td>5.0</td>\n",
       "      <td>NaN</td>\n",
       "      <td>NaN</td>\n",
       "    </tr>\n",
       "    <tr>\n",
       "      <th>6299</th>\n",
       "      <td>ND.0003</td>\n",
       "      <td>1900-1905</td>\n",
       "      <td>0.0</td>\n",
       "      <td>Unprovoked</td>\n",
       "      <td>USA</td>\n",
       "      <td>North Carolina</td>\n",
       "      <td>Ocracoke Inlet</td>\n",
       "      <td>Swimming</td>\n",
       "      <td>Coast Guard personnel</td>\n",
       "      <td>M</td>\n",
       "      <td>...</td>\n",
       "      <td>NaN</td>\n",
       "      <td>F. Schwartz, p.23; C. Creswell, GSAF</td>\n",
       "      <td>ND-0003-Ocracoke_1900-1905.pdf</td>\n",
       "      <td>http://sharkattackfile.net/spreadsheets/pdf_di...</td>\n",
       "      <td>http://sharkattackfile.net/spreadsheets/pdf_di...</td>\n",
       "      <td>ND.0003</td>\n",
       "      <td>ND.0003</td>\n",
       "      <td>4.0</td>\n",
       "      <td>NaN</td>\n",
       "      <td>NaN</td>\n",
       "    </tr>\n",
       "    <tr>\n",
       "      <th>6300</th>\n",
       "      <td>ND.0002</td>\n",
       "      <td>1883-1889</td>\n",
       "      <td>0.0</td>\n",
       "      <td>Unprovoked</td>\n",
       "      <td>PANAMA</td>\n",
       "      <td>NaN</td>\n",
       "      <td>Panama Bay 8ºN, 79ºW</td>\n",
       "      <td>NaN</td>\n",
       "      <td>Jules Patterson</td>\n",
       "      <td>M</td>\n",
       "      <td>...</td>\n",
       "      <td>NaN</td>\n",
       "      <td>The Sun, 10/20/1938</td>\n",
       "      <td>ND-0002-JulesPatterson.pdf</td>\n",
       "      <td>http://sharkattackfile.net/spreadsheets/pdf_di...</td>\n",
       "      <td>http://sharkattackfile.net/spreadsheets/pdf_di...</td>\n",
       "      <td>ND.0002</td>\n",
       "      <td>ND.0002</td>\n",
       "      <td>3.0</td>\n",
       "      <td>NaN</td>\n",
       "      <td>NaN</td>\n",
       "    </tr>\n",
       "    <tr>\n",
       "      <th>6301</th>\n",
       "      <td>ND.0001</td>\n",
       "      <td>1845-1853</td>\n",
       "      <td>0.0</td>\n",
       "      <td>Unprovoked</td>\n",
       "      <td>CEYLON (SRI LANKA)</td>\n",
       "      <td>Eastern Province</td>\n",
       "      <td>Below the English fort, Trincomalee</td>\n",
       "      <td>Swimming</td>\n",
       "      <td>male</td>\n",
       "      <td>M</td>\n",
       "      <td>...</td>\n",
       "      <td>NaN</td>\n",
       "      <td>S.W. Baker</td>\n",
       "      <td>ND-0001-Ceylon.pdf</td>\n",
       "      <td>http://sharkattackfile.net/spreadsheets/pdf_di...</td>\n",
       "      <td>http://sharkattackfile.net/spreadsheets/pdf_di...</td>\n",
       "      <td>ND.0001</td>\n",
       "      <td>ND.0001</td>\n",
       "      <td>2.0</td>\n",
       "      <td>NaN</td>\n",
       "      <td>NaN</td>\n",
       "    </tr>\n",
       "  </tbody>\n",
       "</table>\n",
       "<p>6302 rows × 24 columns</p>\n",
       "</div>"
      ],
      "text/plain": [
       "     Case Number         Date    Year        Type             Country  \\\n",
       "0     2018.06.25  25-Jun-2018  2018.0     Boating                 USA   \n",
       "1     2018.06.18  18-Jun-2018  2018.0  Unprovoked                 USA   \n",
       "2     2018.06.09  09-Jun-2018  2018.0     Invalid                 USA   \n",
       "3     2018.06.08  08-Jun-2018  2018.0  Unprovoked           AUSTRALIA   \n",
       "4     2018.06.04  04-Jun-2018  2018.0    Provoked              MEXICO   \n",
       "...          ...          ...     ...         ...                 ...   \n",
       "6297     ND.0005  Before 1903     0.0  Unprovoked           AUSTRALIA   \n",
       "6298     ND.0004  Before 1903     0.0  Unprovoked           AUSTRALIA   \n",
       "6299     ND.0003    1900-1905     0.0  Unprovoked                 USA   \n",
       "6300     ND.0002    1883-1889     0.0  Unprovoked              PANAMA   \n",
       "6301     ND.0001    1845-1853     0.0  Unprovoked  CEYLON (SRI LANKA)   \n",
       "\n",
       "                   Area                             Location      Activity  \\\n",
       "0            California          Oceanside, San Diego County      Paddling   \n",
       "1               Georgia       St. Simon Island, Glynn County      Standing   \n",
       "2                Hawaii                         Habush, Oahu       Surfing   \n",
       "3       New South Wales                   Arrawarra Headland       Surfing   \n",
       "4                Colima                             La Ticla   Free diving   \n",
       "...                 ...                                  ...           ...   \n",
       "6297  Western Australia                          Roebuck Bay        Diving   \n",
       "6298  Western Australia                                  NaN  Pearl diving   \n",
       "6299     North Carolina                       Ocracoke Inlet      Swimming   \n",
       "6300                NaN                 Panama Bay 8ºN, 79ºW           NaN   \n",
       "6301   Eastern Province  Below the English fort, Trincomalee      Swimming   \n",
       "\n",
       "                       Name Sex   ...         Species   \\\n",
       "0               Julie Wolfe    F  ...      White shark   \n",
       "1           Adyson McNeely     F  ...              NaN   \n",
       "2               John Denges    M  ...              NaN   \n",
       "3                      male    M  ...        2 m shark   \n",
       "4            Gustavo Ramos     M  ...  Tiger shark, 3m   \n",
       "...                     ...  ...  ...              ...   \n",
       "6297                   male    M  ...              NaN   \n",
       "6298                  Ahmun    M  ...              NaN   \n",
       "6299  Coast Guard personnel    M  ...              NaN   \n",
       "6300        Jules Patterson    M  ...              NaN   \n",
       "6301                   male    M  ...              NaN   \n",
       "\n",
       "                     Investigator or Source                             pdf  \\\n",
       "0                          R. Collier, GSAF            2018.06.25-Wolfe.pdf   \n",
       "1            K.McMurray, TrackingSharks.com          2018.06.18-McNeely.pdf   \n",
       "2            K.McMurray, TrackingSharks.com           2018.06.09-Denges.pdf   \n",
       "3                            B. Myatt, GSAF        2018.06.08-Arrawarra.pdf   \n",
       "4                                 A .Kipper            2018.06.04-Ramos.pdf   \n",
       "...                                     ...                             ...   \n",
       "6297       H. Taunton; N. Bartlett,  p. 234          ND-0005-RoebuckBay.pdf   \n",
       "6298  H. Taunton; N. Bartlett,  pp. 233-234               ND-0004-Ahmun.pdf   \n",
       "6299   F. Schwartz, p.23; C. Creswell, GSAF  ND-0003-Ocracoke_1900-1905.pdf   \n",
       "6300                    The Sun, 10/20/1938      ND-0002-JulesPatterson.pdf   \n",
       "6301                             S.W. Baker              ND-0001-Ceylon.pdf   \n",
       "\n",
       "                                           href formula  \\\n",
       "0     http://sharkattackfile.net/spreadsheets/pdf_di...   \n",
       "1     http://sharkattackfile.net/spreadsheets/pdf_di...   \n",
       "2     http://sharkattackfile.net/spreadsheets/pdf_di...   \n",
       "3     http://sharkattackfile.net/spreadsheets/pdf_di...   \n",
       "4     http://sharkattackfile.net/spreadsheets/pdf_di...   \n",
       "...                                                 ...   \n",
       "6297  http://sharkattackfile.net/spreadsheets/pdf_di...   \n",
       "6298  http://sharkattackfile.net/spreadsheets/pdf_di...   \n",
       "6299  http://sharkattackfile.net/spreadsheets/pdf_di...   \n",
       "6300  http://sharkattackfile.net/spreadsheets/pdf_di...   \n",
       "6301  http://sharkattackfile.net/spreadsheets/pdf_di...   \n",
       "\n",
       "                                                   href Case Number.1  \\\n",
       "0     http://sharkattackfile.net/spreadsheets/pdf_di...    2018.06.25   \n",
       "1     http://sharkattackfile.net/spreadsheets/pdf_di...    2018.06.18   \n",
       "2     http://sharkattackfile.net/spreadsheets/pdf_di...    2018.06.09   \n",
       "3     http://sharkattackfile.net/spreadsheets/pdf_di...    2018.06.08   \n",
       "4     http://sharkattackfile.net/spreadsheets/pdf_di...    2018.06.04   \n",
       "...                                                 ...           ...   \n",
       "6297  http://sharkattackfile.net/spreadsheets/pdf_di...       ND.0005   \n",
       "6298  http://sharkattackfile.net/spreadsheets/pdf_di...       ND.0004   \n",
       "6299  http://sharkattackfile.net/spreadsheets/pdf_di...       ND.0003   \n",
       "6300  http://sharkattackfile.net/spreadsheets/pdf_di...       ND.0002   \n",
       "6301  http://sharkattackfile.net/spreadsheets/pdf_di...       ND.0001   \n",
       "\n",
       "     Case Number.2 original order Unnamed: 22 Unnamed: 23  \n",
       "0       2018.06.25         6303.0         NaN         NaN  \n",
       "1       2018.06.18         6302.0         NaN         NaN  \n",
       "2       2018.06.09         6301.0         NaN         NaN  \n",
       "3       2018.06.08         6300.0         NaN         NaN  \n",
       "4       2018.06.04         6299.0         NaN         NaN  \n",
       "...            ...            ...         ...         ...  \n",
       "6297       ND.0005            6.0         NaN         NaN  \n",
       "6298       ND.0004            5.0         NaN         NaN  \n",
       "6299       ND.0003            4.0         NaN         NaN  \n",
       "6300       ND.0002            3.0         NaN         NaN  \n",
       "6301       ND.0001            2.0         NaN         NaN  \n",
       "\n",
       "[6302 rows x 24 columns]"
      ]
     },
     "execution_count": 17,
     "metadata": {},
     "output_type": "execute_result"
    }
   ],
   "source": [
    "clean_without_miss = data_less_missing_rows.loc[:,~data_less_missing_rows.columns.str.endswith('missing')]\n",
    "clean_data = clean_without_miss.iloc[:, :-8]\n",
    "clean_data.head()\n",
    "clean_without_miss"
   ]
  },
  {
   "cell_type": "markdown",
   "metadata": {},
   "source": [
    "# Cambio de typos de las columnas"
   ]
  },
  {
   "cell_type": "markdown",
   "metadata": {},
   "source": [
    "## Date to Datetime"
   ]
  },
  {
   "cell_type": "raw",
   "metadata": {},
   "source": [
    "\n",
    "for i in range(len(clean_data)):\n",
    "    clean_data[\"Date\"][i] = clean_data[\"Date\"][i].strip()\n",
    "    if clean_data[\"Date\"][i].startswith(\"Reported\"):\n",
    "        clean_data[\"Date\"][i] = clean_data[\"Date\"][i].replace(\"Reported\", \"\").strip()\n",
    "    if clean_data[\"Date\"][i][0].isnumeric():\n",
    "        if clean_data[\"Date\"][i][3].isnumeric():\n",
    "            clean_data[\"new\"] = pd.to_datetime(clean_data[\"Date\"].iloc[i], format = \"%Y.%m.%d\")\n",
    "        elif clean_data[\"Date\"][i][6].isnumeric() and clean_data[\"Date\"][i][:2].isnumeric():\n",
    "            clean_data[\"new\"] = pd.to_datetime(clean_data[\"Date\"].iloc[i], format = \"%d-%b%Y\")\n",
    "        else:\n",
    "            clean_data[\"new\"] = pd.to_datetime(clean_data[\"Date\"].iloc[i], format = \"%d-%b-%Y\")\n",
    "    else:\n",
    "        if clean_data[\"Date\"][i][3] == \"-\":\n",
    "            clean_data[\"new\"] = pd.to_datetime(clean_data[\"Date\"].iloc[i], format = \"%b-%Y\")\n",
    "        elif clean_data[\"Date\"][i][3].isalpha():\n",
    "            clean_data[\"new\"] = pd.to_datetime(clean_data[\"Date\"].iloc[i], format = \"%B %Y\")\n",
    "        else: \n",
    "            clean_data[\"new\"] = pd.to_datetime(clean_data[\"Date\"].iloc[i], format = \"%b %Y\")"
   ]
  },
  {
   "cell_type": "code",
   "execution_count": 18,
   "metadata": {},
   "outputs": [
    {
     "data": {
      "text/plain": [
       "306"
      ]
     },
     "execution_count": 18,
     "metadata": {},
     "output_type": "execute_result"
    }
   ],
   "source": [
    "clean_data[\"Date\"] = clean_data[\"Date\"].str.replace(\"Reported\",\"\")\n",
    "clean_data[\"Date\"] = clean_data[\"Date\"].str.replace(\"-\",\"\")\n",
    "clean_data[\"Date\"]  = pd.to_datetime(clean_data[\"Date\"], errors= \"coerce\")\n",
    "clean_data[\"Date\"].isna().sum()\n"
   ]
  },
  {
   "cell_type": "markdown",
   "metadata": {},
   "source": [
    "Que le follen a la puta columna de date, 2 horas y sigo sin tener un formato en concreto"
   ]
  },
  {
   "cell_type": "code",
   "execution_count": 19,
   "metadata": {},
   "outputs": [
    {
     "name": "stdout",
     "output_type": "stream",
     "text": [
      "8\n"
     ]
    },
    {
     "data": {
      "text/plain": [
       "Unprovoked      4595\n",
       "Provoked         574\n",
       "Invalid          547\n",
       "Sea Disaster     239\n",
       "Boating          203\n",
       "Boat             137\n",
       "Questionable       2\n",
       "Boatomg            1\n",
       "Name: Type, dtype: int64"
      ]
     },
     "execution_count": 19,
     "metadata": {},
     "output_type": "execute_result"
    }
   ],
   "source": [
    "print(clean_data[\"Type\"].nunique())\n",
    "clean_data[\"Type\"].value_counts()"
   ]
  },
  {
   "cell_type": "code",
   "execution_count": 20,
   "metadata": {},
   "outputs": [],
   "source": [
    "clean_data[\"Type\"] = clean_data[\"Type\"].astype(\"category\")"
   ]
  },
  {
   "cell_type": "code",
   "execution_count": 21,
   "metadata": {},
   "outputs": [
    {
     "data": {
      "text/plain": [
       "1532"
      ]
     },
     "execution_count": 21,
     "metadata": {},
     "output_type": "execute_result"
    }
   ],
   "source": [
    "len(clean_data[\"Activity\"].value_counts())"
   ]
  },
  {
   "cell_type": "code",
   "execution_count": 22,
   "metadata": {},
   "outputs": [
    {
     "data": {
      "text/plain": [
       "0       F\n",
       "1       F\n",
       "2       M\n",
       "3       M\n",
       "4       M\n",
       "       ..\n",
       "6297    M\n",
       "6298    M\n",
       "6299    M\n",
       "6300    M\n",
       "6301    M\n",
       "Name: Sex , Length: 6302, dtype: object"
      ]
     },
     "execution_count": 22,
     "metadata": {},
     "output_type": "execute_result"
    }
   ],
   "source": [
    "clean_data[\"Sex \"]"
   ]
  },
  {
   "cell_type": "code",
   "execution_count": 23,
   "metadata": {},
   "outputs": [
    {
     "name": "stdout",
     "output_type": "stream",
     "text": [
      "M    5096\n",
      "F     637\n",
      "N       4\n",
      "Name: Sex , dtype: int64\n"
     ]
    }
   ],
   "source": [
    "clean_data[\"Sex \"] = clean_data[\"Sex \"].replace(\"M \", \"M\")\n",
    "clean_data[\"Sex \"].str.strip()\n",
    "\n",
    "clean_data[\"Sex \"] = [\"N\" if i in [\"lli\", \".\"] else i for i in clean_data[\"Sex \"]]        \n",
    "print(clean_data[\"Sex \"].value_counts())"
   ]
  },
  {
   "cell_type": "code",
   "execution_count": 24,
   "metadata": {},
   "outputs": [],
   "source": [
    "clean_data[\"Sex \"] = clean_data[\"Sex \"].astype(\"category\")"
   ]
  },
  {
   "cell_type": "code",
   "execution_count": 25,
   "metadata": {},
   "outputs": [
    {
     "name": "stdout",
     "output_type": "stream",
     "text": [
      "<class 'pandas.core.frame.DataFrame'>\n",
      "Int64Index: 6302 entries, 0 to 6301\n",
      "Data columns (total 16 columns):\n",
      " #   Column                  Non-Null Count  Dtype         \n",
      "---  ------                  --------------  -----         \n",
      " 0   Case Number             6301 non-null   object        \n",
      " 1   Date                    5996 non-null   datetime64[ns]\n",
      " 2   Year                    6300 non-null   float64       \n",
      " 3   Type                    6298 non-null   category      \n",
      " 4   Country                 6252 non-null   object        \n",
      " 5   Area                    5847 non-null   object        \n",
      " 6   Location                5762 non-null   object        \n",
      " 7   Activity                5758 non-null   object        \n",
      " 8   Name                    6092 non-null   object        \n",
      " 9   Sex                     5737 non-null   category      \n",
      " 10  Age                     3471 non-null   object        \n",
      " 11  Injury                  6274 non-null   object        \n",
      " 12  Fatal (Y/N)             5763 non-null   object        \n",
      " 13  Time                    2948 non-null   object        \n",
      " 14  Species                 3464 non-null   object        \n",
      " 15  Investigator or Source  6285 non-null   object        \n",
      "dtypes: category(2), datetime64[ns](1), float64(1), object(12)\n",
      "memory usage: 751.3+ KB\n"
     ]
    }
   ],
   "source": [
    "clean_data.info()"
   ]
  },
  {
   "cell_type": "code",
   "execution_count": 26,
   "metadata": {},
   "outputs": [
    {
     "name": "stdout",
     "output_type": "stream",
     "text": [
      "8\n"
     ]
    },
    {
     "data": {
      "text/plain": [
       "N          4293\n",
       "Y          1388\n",
       "UNKNOWN      71\n",
       " N            7\n",
       "2017          1\n",
       "M             1\n",
       "N             1\n",
       "y             1\n",
       "Name: Fatal (Y/N), dtype: int64"
      ]
     },
     "execution_count": 26,
     "metadata": {},
     "output_type": "execute_result"
    }
   ],
   "source": [
    "print(clean_data[\"Fatal (Y/N)\"].nunique())\n",
    "clean_data[\"Fatal (Y/N)\"].value_counts()\n"
   ]
  },
  {
   "cell_type": "code",
   "execution_count": 27,
   "metadata": {},
   "outputs": [],
   "source": [
    "clean_data[\"Fatal (Y/N)\"] = clean_data[\"Fatal (Y/N)\"].str.upper()"
   ]
  },
  {
   "cell_type": "code",
   "execution_count": 28,
   "metadata": {},
   "outputs": [
    {
     "data": {
      "text/plain": [
       "{'M': 'UNKNOWN', 'M ': 'UNKNOWN', '2017': 'UNKNOWN', ' N': 'N', 'N ': 'N'}"
      ]
     },
     "execution_count": 28,
     "metadata": {},
     "output_type": "execute_result"
    }
   ],
   "source": [
    "dic = dict.fromkeys([\"M\", \"M \", \"2017\"], \"UNKNOWN\")\n",
    "dic.update({\" N\" : \"N\", \"N \": \"N\"})\n",
    "dic"
   ]
  },
  {
   "cell_type": "code",
   "execution_count": 29,
   "metadata": {},
   "outputs": [],
   "source": [
    "clean_data = clean_data.replace({\"Fatal (Y/N)\": dic})"
   ]
  },
  {
   "cell_type": "code",
   "execution_count": 30,
   "metadata": {},
   "outputs": [
    {
     "data": {
      "text/plain": [
       "N          4301\n",
       "Y          1389\n",
       "UNKNOWN      73\n",
       "Name: Fatal (Y/N), dtype: int64"
      ]
     },
     "execution_count": 30,
     "metadata": {},
     "output_type": "execute_result"
    }
   ],
   "source": [
    "clean_data[\"Fatal (Y/N)\"].value_counts()"
   ]
  },
  {
   "cell_type": "code",
   "execution_count": 31,
   "metadata": {},
   "outputs": [],
   "source": [
    "clean_data[\"Fatal (Y/N)\"] = clean_data[\"Fatal (Y/N)\"].astype(\"category\")"
   ]
  },
  {
   "cell_type": "code",
   "execution_count": 32,
   "metadata": {},
   "outputs": [
    {
     "name": "stdout",
     "output_type": "stream",
     "text": [
      "<class 'pandas.core.frame.DataFrame'>\n",
      "Int64Index: 6302 entries, 0 to 6301\n",
      "Data columns (total 16 columns):\n",
      " #   Column                  Non-Null Count  Dtype         \n",
      "---  ------                  --------------  -----         \n",
      " 0   Case Number             6301 non-null   object        \n",
      " 1   Date                    5996 non-null   datetime64[ns]\n",
      " 2   Year                    6300 non-null   float64       \n",
      " 3   Type                    6298 non-null   category      \n",
      " 4   Country                 6252 non-null   object        \n",
      " 5   Area                    5847 non-null   object        \n",
      " 6   Location                5762 non-null   object        \n",
      " 7   Activity                5758 non-null   object        \n",
      " 8   Name                    6092 non-null   object        \n",
      " 9   Sex                     5737 non-null   category      \n",
      " 10  Age                     3471 non-null   object        \n",
      " 11  Injury                  6274 non-null   object        \n",
      " 12  Fatal (Y/N)             5763 non-null   category      \n",
      " 13  Time                    2948 non-null   object        \n",
      " 14  Species                 3464 non-null   object        \n",
      " 15  Investigator or Source  6285 non-null   object        \n",
      "dtypes: category(3), datetime64[ns](1), float64(1), object(11)\n",
      "memory usage: 708.4+ KB\n"
     ]
    }
   ],
   "source": [
    "clean_data.info()"
   ]
  },
  {
   "cell_type": "code",
   "execution_count": 33,
   "metadata": {},
   "outputs": [
    {
     "data": {
      "text/plain": [
       "Afternoon               187\n",
       "11h00                   128\n",
       "Morning                 121\n",
       "12h00                   109\n",
       "15h00                   108\n",
       "                       ... \n",
       "Prior to 10h37            1\n",
       "After Dusk                1\n",
       "14h21                     1\n",
       "Shortly before 12h00      1\n",
       "10h00 / 11h00             1\n",
       "Name: Time, Length: 366, dtype: int64"
      ]
     },
     "execution_count": 33,
     "metadata": {},
     "output_type": "execute_result"
    }
   ],
   "source": [
    "clean_data[\"Time\"].value_counts()"
   ]
  },
  {
   "cell_type": "code",
   "execution_count": 34,
   "metadata": {},
   "outputs": [
    {
     "name": "stdout",
     "output_type": "stream",
     "text": [
      "{'UNKNOWN': 3354, '11': 257, '16': 242, '15': 239, '14': 235, '12': 201, '13': 200, '17': 197, 'Afternoon': 187, '10': 179, '18': 131, '09': 123, 'Morning': 121, '08': 92, '07': 81, 'Night': 62, '19': 53, '06': 36, 'Late afternoon': 35, 'Evening': 34, '20': 30, 'Dusk': 15, 'A.M.': 12, 'P.M.': 12, '05': 11, 'Early morning': 11, 'Midday': 10, '03': 9, 'Early afternoon': 8, '23': 8, '02': 7, '01': 6, '21': 5, '--': 5, '22': 5, '04': 5, 'Midnight': 4, 'Sunset': 4, 'Late afternon': 2, 'AM': 2, ' ': 2, 'After noon': 2, 'Dawn': 2, 'Dark': 2, 'Just before noon': 2, '>17h30': 1, 'Just before dawn': 1, 'Daytime': 1, 'X': 1, 'Possibly same incident as 2000.08.21': 1, 'Late night': 1, 'Before 07h00': 1, '\\xa0 ': 1, 'Between 11h00 & 12h00': 1, '8:04 pm': 1, '\"After dark\"': 1, 'Shortly after midnight': 1, '\"Evening\"': 1, 'Noon': 1, '  ': 1, 'Just before sundown': 1, 'After dusk': 1, 'After midnight': 1, '   ': 1, '9h00': 1, '30': 1, 'Shortly before 13h00': 1, '>08h00': 1, '00': 1, 'Before 10h30': 1, '\"Early evening\"': 1, 'Mid afternoon': 1, '>12h00': 1, 'Lunchtime': 1, 'Ship aban-doned at 03h10': 1, 'After Dusk': 1, '\"After lunch\"': 1, 'Morning ': 1, 'Mid morning': 1, 'Early Morning': 1, ' 14h00': 1, '>06h45': 1, '\"shortly before dusk\"': 1, 'night': 1, 'Midday.': 1, 'Before daybreak': 1, 'Sometime between 06h00 & 08hoo': 1, '>17h00': 1, 'Prior to 10h37': 1, 'Mid-morning': 1, 'Shortly before 12h00': 1, 'Just after 12h00': 1, 'Daybreak': 1, '<07h30': 1, '>14h30': 1, '\"Just before 11h00\"': 1, 'Between 06h00 & 07h20': 1, '\"Night\"': 1, 'Late morning': 1, 'Nightfall': 1, 'dusk': 1, 'Between 05h00 and 08h00': 1, 'Late Afternoon': 1, 'FATAL  (Wire netting installed at local beaches after this incident.)': 1, 'After 04h00': 1, '2 hrs before sunset': 1, '2 hours after Opperman': 1}\n"
     ]
    }
   ],
   "source": [
    "clean_data[\"Time\"] = clean_data[\"Time\"].fillna(\"UNKNOWN\")\n",
    "\n",
    "clean_data[\"Time\"] = [i[:2] if i[:2].isnumeric() else i for i in  clean_data[\"Time\"]]\n",
    "print(dict(clean_data[\"Time\"].value_counts()))"
   ]
  },
  {
   "cell_type": "code",
   "execution_count": 35,
   "metadata": {},
   "outputs": [
    {
     "name": "stderr",
     "output_type": "stream",
     "text": [
      "<ipython-input-35-9ce2a40e4991>:11: SettingWithCopyWarning: \n",
      "A value is trying to be set on a copy of a slice from a DataFrame\n",
      "\n",
      "See the caveats in the documentation: https://pandas.pydata.org/pandas-docs/stable/user_guide/indexing.html#returning-a-view-versus-a-copy\n",
      "  clean_data[\"Time\"][i] = \"Night\"\n",
      "<ipython-input-35-9ce2a40e4991>:9: SettingWithCopyWarning: \n",
      "A value is trying to be set on a copy of a slice from a DataFrame\n",
      "\n",
      "See the caveats in the documentation: https://pandas.pydata.org/pandas-docs/stable/user_guide/indexing.html#returning-a-view-versus-a-copy\n",
      "  clean_data[\"Time\"][i] = \"Evening\"\n",
      "<ipython-input-35-9ce2a40e4991>:7: SettingWithCopyWarning: \n",
      "A value is trying to be set on a copy of a slice from a DataFrame\n",
      "\n",
      "See the caveats in the documentation: https://pandas.pydata.org/pandas-docs/stable/user_guide/indexing.html#returning-a-view-versus-a-copy\n",
      "  clean_data[\"Time\"][i] = \"Afternoon\"\n",
      "<ipython-input-35-9ce2a40e4991>:14: SettingWithCopyWarning: \n",
      "A value is trying to be set on a copy of a slice from a DataFrame\n",
      "\n",
      "See the caveats in the documentation: https://pandas.pydata.org/pandas-docs/stable/user_guide/indexing.html#returning-a-view-versus-a-copy\n",
      "  clean_data[\"Time\"][i] = \"Afternoon\"\n",
      "<ipython-input-35-9ce2a40e4991>:16: SettingWithCopyWarning: \n",
      "A value is trying to be set on a copy of a slice from a DataFrame\n",
      "\n",
      "See the caveats in the documentation: https://pandas.pydata.org/pandas-docs/stable/user_guide/indexing.html#returning-a-view-versus-a-copy\n",
      "  clean_data[\"Time\"][i] = \"Morning\"\n",
      "<ipython-input-35-9ce2a40e4991>:20: SettingWithCopyWarning: \n",
      "A value is trying to be set on a copy of a slice from a DataFrame\n",
      "\n",
      "See the caveats in the documentation: https://pandas.pydata.org/pandas-docs/stable/user_guide/indexing.html#returning-a-view-versus-a-copy\n",
      "  clean_data[\"Time\"][i] = \"Nigth\"\n",
      "<ipython-input-35-9ce2a40e4991>:5: SettingWithCopyWarning: \n",
      "A value is trying to be set on a copy of a slice from a DataFrame\n",
      "\n",
      "See the caveats in the documentation: https://pandas.pydata.org/pandas-docs/stable/user_guide/indexing.html#returning-a-view-versus-a-copy\n",
      "  clean_data[\"Time\"][i] = \"Morning\"\n",
      "<ipython-input-35-9ce2a40e4991>:18: SettingWithCopyWarning: \n",
      "A value is trying to be set on a copy of a slice from a DataFrame\n",
      "\n",
      "See the caveats in the documentation: https://pandas.pydata.org/pandas-docs/stable/user_guide/indexing.html#returning-a-view-versus-a-copy\n",
      "  clean_data[\"Time\"][i] = \"Evening\"\n"
     ]
    },
    {
     "data": {
      "text/plain": [
       "0           night\n",
       "1         evening\n",
       "2       afternoon\n",
       "3         unknown\n",
       "4         unknown\n",
       "          ...    \n",
       "6297      unknown\n",
       "6298      unknown\n",
       "6299      unknown\n",
       "6300      unknown\n",
       "6301      unknown\n",
       "Name: Time, Length: 6302, dtype: object"
      ]
     },
     "execution_count": 35,
     "metadata": {},
     "output_type": "execute_result"
    }
   ],
   "source": [
    "for i in range(len(clean_data[\"Time\"])):\n",
    "    \n",
    "    if str(clean_data[\"Time\"][i])[:2].isnumeric():\n",
    "        if 6 >= int(str(clean_data[\"Time\"][i])[:2]) <= 11:\n",
    "            clean_data[\"Time\"][i] = \"Morning\"\n",
    "        elif 12 >= int(str(clean_data[\"Time\"][i])[:2]) <= 16:\n",
    "            clean_data[\"Time\"][i] = \"Afternoon\"\n",
    "        elif 17 >= int(str(clean_data[\"Time\"][i])[:2]) <= 19:\n",
    "            clean_data[\"Time\"][i] = \"Evening\"\n",
    "        elif 20 >= int(str(clean_data[\"Time\"][i])[:2]) or 5 <= int(str(clean_data[\"Time\"][i])[:2]):\n",
    "            clean_data[\"Time\"][i] = \"Night\"\n",
    "    else:\n",
    "        if \"afternoon\" in clean_data[\"Time\"][i].lower():\n",
    "            clean_data[\"Time\"][i] = \"Afternoon\"\n",
    "        if \"morning\" in clean_data[\"Time\"][i].lower():\n",
    "            clean_data[\"Time\"][i] = \"Morning\"\n",
    "        if \"evening\" in clean_data[\"Time\"][i].lower():\n",
    "            clean_data[\"Time\"][i] = \"Evening\"\n",
    "        if \"night\" in clean_data[\"Time\"][i].lower():\n",
    "            clean_data[\"Time\"][i] = \"Nigth\"\n",
    "    \n",
    "clean_data[\"Time\"] = clean_data[\"Time\"].str.lower()\n",
    "clean_data[\"Time\"] = clean_data[\"Time\"].str.strip()\n",
    "clean_data[\"Time\"]\n"
   ]
  },
  {
   "cell_type": "code",
   "execution_count": 36,
   "metadata": {},
   "outputs": [],
   "source": [
    "clean_data[\"Time\"] = [\"unknown\" if i not in [\"unknown\",\"afternoon\", \"evening\", \"nigth\", \"morning\"] else i for i in clean_data[\"Time\"]]\n",
    "\n",
    "clean_data[\"Time\"].value_counts()\n",
    "clean_data[\"Time\"] = clean_data[\"Time\"].astype(\"category\")"
   ]
  },
  {
   "cell_type": "code",
   "execution_count": 37,
   "metadata": {},
   "outputs": [
    {
     "name": "stdout",
     "output_type": "stream",
     "text": [
      "<class 'pandas.core.frame.DataFrame'>\n",
      "Int64Index: 6302 entries, 0 to 6301\n",
      "Data columns (total 16 columns):\n",
      " #   Column                  Non-Null Count  Dtype         \n",
      "---  ------                  --------------  -----         \n",
      " 0   Case Number             6301 non-null   object        \n",
      " 1   Date                    5996 non-null   datetime64[ns]\n",
      " 2   Year                    6300 non-null   float64       \n",
      " 3   Type                    6298 non-null   category      \n",
      " 4   Country                 6252 non-null   object        \n",
      " 5   Area                    5847 non-null   object        \n",
      " 6   Location                5762 non-null   object        \n",
      " 7   Activity                5758 non-null   object        \n",
      " 8   Name                    6092 non-null   object        \n",
      " 9   Sex                     5737 non-null   category      \n",
      " 10  Age                     3471 non-null   object        \n",
      " 11  Injury                  6274 non-null   object        \n",
      " 12  Fatal (Y/N)             5763 non-null   category      \n",
      " 13  Time                    6302 non-null   category      \n",
      " 14  Species                 3464 non-null   object        \n",
      " 15  Investigator or Source  6285 non-null   object        \n",
      "dtypes: category(4), datetime64[ns](1), float64(1), object(10)\n",
      "memory usage: 794.5+ KB\n"
     ]
    }
   ],
   "source": [
    "clean_data.info()"
   ]
  },
  {
   "cell_type": "code",
   "execution_count": 38,
   "metadata": {},
   "outputs": [],
   "source": [
    "clean_data[\"Age\"] = clean_data[\"Age\"].str.strip()\n",
    "clean_data[\"Age\"] = clean_data[\"Age\"].str.replace(\"[a-zA-Z]|½|\\?|<|>|\\\"|-|\\(|\\)|\\.|\\'| |&\", \"\", regex = True)\n",
    "clean_data[\"Age\"] = [None if len(str(i)) > 3 or i == \"\" else i for i in clean_data[\"Age\"]]\n",
    "clean_data[\"Age\"] = clean_data[\"Age\"].astype(\"float64\")\n",
    "\n"
   ]
  },
  {
   "cell_type": "code",
   "execution_count": 39,
   "metadata": {},
   "outputs": [
    {
     "name": "stdout",
     "output_type": "stream",
     "text": [
      "{17.0: 154, 18.0: 151, 20.0: 151, 19.0: 143, 15.0: 139, 16.0: 138, 21.0: 120, 22.0: 117, 25.0: 108, 24.0: 106, 14.0: 102, 13.0: 94, 30.0: 85, 26.0: 83, 23.0: 81, 28.0: 81, 27.0: 78, 29.0: 78, 12.0: 73, 35.0: 69, 32.0: 69, 40.0: 59, 10.0: 56, 31.0: 52, 34.0: 50, 38.0: 48, 33.0: 45, 43.0: 44, 36.0: 43, 37.0: 42, 42.0: 38, 11.0: 38, 39.0: 38, 41.0: 38, 50.0: 36, 9.0: 36, 52.0: 35, 45.0: 33, 47.0: 30, 44.0: 29, 49.0: 28, 8.0: 28, 48.0: 28, 46.0: 27, 55.0: 23, 7.0: 22, 51.0: 20, 60.0: 18, 54.0: 17, 57.0: 16, 6.0: 15, 58.0: 15, 61.0: 13, 53.0: 13, 59.0: 11, 69.0: 10, 56.0: 10, 63.0: 9, 62.0: 8, 5.0: 7, 68.0: 7, 70.0: 6, 65.0: 5, 3.0: 5, 66.0: 4, 78.0: 4, 64.0: 4, 73.0: 3, 71.0: 3, 77.0: 3, 1.0: 2, 810.0: 2, 75.0: 2, 74.0: 2, 84.0: 1, 2.0: 1, 81.0: 1, 72.0: 1, 86.0: 1, 731.0: 1, 87.0: 1, 910.0: 1, 912.0: 1, 67.0: 1, 82.0: 1}\n"
     ]
    },
    {
     "data": {
      "image/png": "[encoded data removed]",
      "text/plain": [
       "<Figure size 432x288 with 1 Axes>"
      ]
     },
     "metadata": {
      "needs_background": "light"
     },
     "output_type": "display_data"
    }
   ],
   "source": [
    "a = dict(clean_data[\"Age\"].value_counts())\n",
    "print(a)\n",
    "#plt.hist(clean_data[\"Age\"], bins = len(a))\n",
    "plt.bar(a.keys(), a.values())\n",
    "plt.show()"
   ]
  },
  {
   "cell_type": "code",
   "execution_count": 40,
   "metadata": {},
   "outputs": [
    {
     "name": "stdout",
     "output_type": "stream",
     "text": [
      "<class 'pandas.core.frame.DataFrame'>\n",
      "Int64Index: 6302 entries, 0 to 6301\n",
      "Data columns (total 16 columns):\n",
      " #   Column                  Non-Null Count  Dtype         \n",
      "---  ------                  --------------  -----         \n",
      " 0   Case Number             6301 non-null   object        \n",
      " 1   Date                    5996 non-null   datetime64[ns]\n",
      " 2   Year                    6300 non-null   float64       \n",
      " 3   Type                    6298 non-null   category      \n",
      " 4   Country                 6252 non-null   object        \n",
      " 5   Area                    5847 non-null   object        \n",
      " 6   Location                5762 non-null   object        \n",
      " 7   Activity                5758 non-null   object        \n",
      " 8   Name                    6092 non-null   object        \n",
      " 9   Sex                     5737 non-null   category      \n",
      " 10  Age                     3411 non-null   float64       \n",
      " 11  Injury                  6274 non-null   object        \n",
      " 12  Fatal (Y/N)             5763 non-null   category      \n",
      " 13  Time                    6302 non-null   category      \n",
      " 14  Species                 3464 non-null   object        \n",
      " 15  Investigator or Source  6285 non-null   object        \n",
      "dtypes: category(4), datetime64[ns](1), float64(2), object(9)\n",
      "memory usage: 794.5+ KB\n"
     ]
    }
   ],
   "source": [
    "clean_data.info()"
   ]
  },
  {
   "cell_type": "markdown",
   "metadata": {},
   "source": [
    "## Convertir todo en minúsculas"
   ]
  },
  {
   "cell_type": "code",
   "execution_count": 41,
   "metadata": {},
   "outputs": [],
   "source": [
    "clean_data = clean_data.applymap(lambda s:s.lower() if type(s) == str else s)\n",
    "clean_data.columns = clean_data.columns.str.lower()\n",
    "clean_data.columns = clean_data.columns.str.strip()"
   ]
  },
  {
   "cell_type": "code",
   "execution_count": 42,
   "metadata": {},
   "outputs": [
    {
     "data": {
      "text/html": [
       "<div>\n",
       "<style scoped>\n",
       "    .dataframe tbody tr th:only-of-type {\n",
       "        vertical-align: middle;\n",
       "    }\n",
       "\n",
       "    .dataframe tbody tr th {\n",
       "        vertical-align: top;\n",
       "    }\n",
       "\n",
       "    .dataframe thead th {\n",
       "        text-align: right;\n",
       "    }\n",
       "</style>\n",
       "<table border=\"1\" class=\"dataframe\">\n",
       "  <thead>\n",
       "    <tr style=\"text-align: right;\">\n",
       "      <th></th>\n",
       "      <th>case number</th>\n",
       "      <th>date</th>\n",
       "      <th>year</th>\n",
       "      <th>type</th>\n",
       "      <th>country</th>\n",
       "      <th>area</th>\n",
       "      <th>location</th>\n",
       "      <th>activity</th>\n",
       "      <th>name</th>\n",
       "      <th>sex</th>\n",
       "      <th>age</th>\n",
       "      <th>injury</th>\n",
       "      <th>fatal (y/n)</th>\n",
       "      <th>time</th>\n",
       "      <th>species</th>\n",
       "      <th>investigator or source</th>\n",
       "    </tr>\n",
       "  </thead>\n",
       "  <tbody>\n",
       "    <tr>\n",
       "      <th>0</th>\n",
       "      <td>2018.06.25</td>\n",
       "      <td>2018-06-25</td>\n",
       "      <td>2018.0</td>\n",
       "      <td>boating</td>\n",
       "      <td>usa</td>\n",
       "      <td>california</td>\n",
       "      <td>oceanside, san diego county</td>\n",
       "      <td>paddling</td>\n",
       "      <td>julie wolfe</td>\n",
       "      <td>f</td>\n",
       "      <td>57.0</td>\n",
       "      <td>no injury to occupant, outrigger canoe and pad...</td>\n",
       "      <td>n</td>\n",
       "      <td>unknown</td>\n",
       "      <td>white shark</td>\n",
       "      <td>r. collier, gsaf</td>\n",
       "    </tr>\n",
       "    <tr>\n",
       "      <th>1</th>\n",
       "      <td>2018.06.18</td>\n",
       "      <td>2018-06-18</td>\n",
       "      <td>2018.0</td>\n",
       "      <td>unprovoked</td>\n",
       "      <td>usa</td>\n",
       "      <td>georgia</td>\n",
       "      <td>st. simon island, glynn county</td>\n",
       "      <td>standing</td>\n",
       "      <td>adyson mcneely</td>\n",
       "      <td>f</td>\n",
       "      <td>11.0</td>\n",
       "      <td>minor injury to left thigh</td>\n",
       "      <td>n</td>\n",
       "      <td>evening</td>\n",
       "      <td>NaN</td>\n",
       "      <td>k.mcmurray, trackingsharks.com</td>\n",
       "    </tr>\n",
       "    <tr>\n",
       "      <th>2</th>\n",
       "      <td>2018.06.09</td>\n",
       "      <td>2018-06-09</td>\n",
       "      <td>2018.0</td>\n",
       "      <td>invalid</td>\n",
       "      <td>usa</td>\n",
       "      <td>hawaii</td>\n",
       "      <td>habush, oahu</td>\n",
       "      <td>surfing</td>\n",
       "      <td>john denges</td>\n",
       "      <td>m</td>\n",
       "      <td>48.0</td>\n",
       "      <td>injury to left lower leg from surfboard skeg</td>\n",
       "      <td>n</td>\n",
       "      <td>afternoon</td>\n",
       "      <td>NaN</td>\n",
       "      <td>k.mcmurray, trackingsharks.com</td>\n",
       "    </tr>\n",
       "    <tr>\n",
       "      <th>3</th>\n",
       "      <td>2018.06.08</td>\n",
       "      <td>2018-06-08</td>\n",
       "      <td>2018.0</td>\n",
       "      <td>unprovoked</td>\n",
       "      <td>australia</td>\n",
       "      <td>new south wales</td>\n",
       "      <td>arrawarra headland</td>\n",
       "      <td>surfing</td>\n",
       "      <td>male</td>\n",
       "      <td>m</td>\n",
       "      <td>NaN</td>\n",
       "      <td>minor injury to lower leg</td>\n",
       "      <td>n</td>\n",
       "      <td>unknown</td>\n",
       "      <td>2 m shark</td>\n",
       "      <td>b. myatt, gsaf</td>\n",
       "    </tr>\n",
       "    <tr>\n",
       "      <th>4</th>\n",
       "      <td>2018.06.04</td>\n",
       "      <td>2018-06-04</td>\n",
       "      <td>2018.0</td>\n",
       "      <td>provoked</td>\n",
       "      <td>mexico</td>\n",
       "      <td>colima</td>\n",
       "      <td>la ticla</td>\n",
       "      <td>free diving</td>\n",
       "      <td>gustavo ramos</td>\n",
       "      <td>m</td>\n",
       "      <td>NaN</td>\n",
       "      <td>lacerations to leg &amp; hand shark provoked incident</td>\n",
       "      <td>n</td>\n",
       "      <td>unknown</td>\n",
       "      <td>tiger shark, 3m</td>\n",
       "      <td>a .kipper</td>\n",
       "    </tr>\n",
       "  </tbody>\n",
       "</table>\n",
       "</div>"
      ],
      "text/plain": [
       "  case number       date    year        type    country             area  \\\n",
       "0  2018.06.25 2018-06-25  2018.0     boating        usa       california   \n",
       "1  2018.06.18 2018-06-18  2018.0  unprovoked        usa          georgia   \n",
       "2  2018.06.09 2018-06-09  2018.0     invalid        usa           hawaii   \n",
       "3  2018.06.08 2018-06-08  2018.0  unprovoked  australia  new south wales   \n",
       "4  2018.06.04 2018-06-04  2018.0    provoked     mexico           colima   \n",
       "\n",
       "                         location     activity             name sex   age  \\\n",
       "0     oceanside, san diego county     paddling      julie wolfe   f  57.0   \n",
       "1  st. simon island, glynn county     standing  adyson mcneely    f  11.0   \n",
       "2                    habush, oahu      surfing      john denges   m  48.0   \n",
       "3              arrawarra headland      surfing             male   m   NaN   \n",
       "4                        la ticla  free diving   gustavo ramos    m   NaN   \n",
       "\n",
       "                                              injury fatal (y/n)       time  \\\n",
       "0  no injury to occupant, outrigger canoe and pad...           n    unknown   \n",
       "1                         minor injury to left thigh           n    evening   \n",
       "2       injury to left lower leg from surfboard skeg           n  afternoon   \n",
       "3                          minor injury to lower leg           n    unknown   \n",
       "4  lacerations to leg & hand shark provoked incident           n    unknown   \n",
       "\n",
       "           species          investigator or source  \n",
       "0      white shark                r. collier, gsaf  \n",
       "1              NaN  k.mcmurray, trackingsharks.com  \n",
       "2              NaN  k.mcmurray, trackingsharks.com  \n",
       "3        2 m shark                  b. myatt, gsaf  \n",
       "4  tiger shark, 3m                       a .kipper  "
      ]
     },
     "execution_count": 42,
     "metadata": {},
     "output_type": "execute_result"
    }
   ],
   "source": [
    "clean_data.head()\n"
   ]
  },
  {
   "cell_type": "markdown",
   "metadata": {},
   "source": [
    "## Quitar duplicados"
   ]
  },
  {
   "cell_type": "code",
   "execution_count": 43,
   "metadata": {},
   "outputs": [
    {
     "name": "stdout",
     "output_type": "stream",
     "text": [
      "(6302, 16) (6302, 16)\n"
     ]
    }
   ],
   "source": [
    "df = clean_data.drop_duplicates()\n",
    "print(df.shape, clean_data.shape)\n"
   ]
  },
  {
   "cell_type": "markdown",
   "metadata": {},
   "source": [
    "## Hacer columnas de año, mes dia"
   ]
  },
  {
   "cell_type": "code",
   "execution_count": 44,
   "metadata": {},
   "outputs": [
    {
     "name": "stdout",
     "output_type": "stream",
     "text": [
      "<class 'pandas.core.frame.DataFrame'>\n",
      "Int64Index: 6302 entries, 0 to 6301\n",
      "Data columns (total 17 columns):\n",
      " #   Column                  Non-Null Count  Dtype  \n",
      "---  ------                  --------------  -----  \n",
      " 0   case number             6301 non-null   object \n",
      " 1   type                    6298 non-null   object \n",
      " 2   country                 6252 non-null   object \n",
      " 3   area                    5847 non-null   object \n",
      " 4   location                5762 non-null   object \n",
      " 5   activity                5758 non-null   object \n",
      " 6   name                    6092 non-null   object \n",
      " 7   sex                     5737 non-null   object \n",
      " 8   age                     3411 non-null   float64\n",
      " 9   injury                  6274 non-null   object \n",
      " 10  fatal (y/n)             5763 non-null   object \n",
      " 11  time                    6302 non-null   object \n",
      " 12  species                 3464 non-null   object \n",
      " 13  investigator or source  6285 non-null   object \n",
      " 14  year                    5996 non-null   float64\n",
      " 15  month                   5996 non-null   float64\n",
      " 16  day                     5996 non-null   float64\n",
      "dtypes: float64(4), object(13)\n",
      "memory usage: 886.2+ KB\n"
     ]
    }
   ],
   "source": [
    "df[\"yea2r\"] = df[\"date\"].dt.year\n",
    "df[\"month\"] = df[\"date\"].dt.month\n",
    "df[\"day\"] = df[\"date\"].dt.day\n",
    "\n",
    "df.drop([\"date\", \"year\"], axis = 1, inplace = True)\n",
    "df.rename(columns={\"yea2r\": \"year\"}, inplace = True)\n",
    "df.info()"
   ]
  },
  {
   "cell_type": "markdown",
   "metadata": {},
   "source": [
    "## Columnas no informativas/Irrelevantes"
   ]
  },
  {
   "cell_type": "code",
   "execution_count": 45,
   "metadata": {},
   "outputs": [],
   "source": [
    "num_rows = len(df.index)\n",
    "low_information_cols = []\n",
    "for col in df.columns:\n",
    "    cnts = df[col].value_counts(dropna=False)\n",
    "    top_pct = (cnts/num_rows).iloc[0]\n",
    "    if top_pct > 0.95:\n",
    "        low_information_cols.append(col)\n",
    "        print(f\"{col}: {top_pct*100}\")\n",
    "        print(\"---------------------\")"
   ]
  },
  {
   "cell_type": "markdown",
   "metadata": {},
   "source": [
    "## Irregular data (outlier) "
   ]
  },
  {
   "cell_type": "code",
   "execution_count": 46,
   "metadata": {},
   "outputs": [
    {
     "data": {
      "image/png": "[encoded data removed]",
      "text/plain": [
       "<Figure size 432x288 with 1 Axes>"
      ]
     },
     "metadata": {
      "needs_background": "light"
     },
     "output_type": "display_data"
    },
    {
     "data": {
      "image/png": "[encoded data removed]",
      "text/plain": [
       "<Figure size 432x288 with 1 Axes>"
      ]
     },
     "metadata": {
      "needs_background": "light"
     },
     "output_type": "display_data"
    },
    {
     "data": {
      "image/png": "[encoded data removed]",
      "text/plain": [
       "<Figure size 432x288 with 1 Axes>"
      ]
     },
     "metadata": {
      "needs_background": "light"
     },
     "output_type": "display_data"
    },
    {
     "data": {
      "image/png": "[encoded data removed]",
      "text/plain": [
       "<Figure size 432x288 with 1 Axes>"
      ]
     },
     "metadata": {
      "needs_background": "light"
     },
     "output_type": "display_data"
    }
   ],
   "source": [
    "# columnas numericas\n",
    "df_numeric = df.select_dtypes(include = [np.number])\n",
    "numeric_cols = df_numeric.columns.values\n",
    "for col in numeric_cols:\n",
    "    df[col].hist(bins=100)\n",
    "    plt.title(col)\n",
    "    plt.show()"
   ]
  },
  {
   "cell_type": "code",
   "execution_count": 47,
   "metadata": {},
   "outputs": [
    {
     "data": {
      "image/png": "[encoded data removed]",
      "text/plain": [
       "<Figure size 432x288 with 1 Axes>"
      ]
     },
     "metadata": {
      "needs_background": "light"
     },
     "output_type": "display_data"
    },
    {
     "data": {
      "image/png": "[encoded data removed]",
      "text/plain": [
       "<Figure size 432x288 with 1 Axes>"
      ]
     },
     "metadata": {
      "needs_background": "light"
     },
     "output_type": "display_data"
    },
    {
     "data": {
      "image/png": "[encoded data removed]",
      "text/plain": [
       "<Figure size 432x288 with 1 Axes>"
      ]
     },
     "metadata": {
      "needs_background": "light"
     },
     "output_type": "display_data"
    },
    {
     "data": {
      "image/png": "[encoded data removed]",
      "text/plain": [
       "<Figure size 432x288 with 1 Axes>"
      ]
     },
     "metadata": {
      "needs_background": "light"
     },
     "output_type": "display_data"
    }
   ],
   "source": [
    "for col in numeric_cols:\n",
    "    df[col].value_counts().plot.bar()\n",
    "    plt.title(col)\n",
    "    plt.show()"
   ]
  },
  {
   "cell_type": "code",
   "execution_count": 48,
   "metadata": {},
   "outputs": [
    {
     "data": {
      "image/png": "[encoded data removed]",
      "text/plain": [
       "<Figure size 432x288 with 1 Axes>"
      ]
     },
     "metadata": {
      "needs_background": "light"
     },
     "output_type": "display_data"
    },
    {
     "data": {
      "image/png": "[encoded data removed]",
      "text/plain": [
       "<Figure size 432x288 with 1 Axes>"
      ]
     },
     "metadata": {
      "needs_background": "light"
     },
     "output_type": "display_data"
    },
    {
     "data": {
      "image/png": "[encoded data removed]",
      "text/plain": [
       "<Figure size 432x288 with 1 Axes>"
      ]
     },
     "metadata": {
      "needs_background": "light"
     },
     "output_type": "display_data"
    },
    {
     "data": {
      "image/png": "[encoded data removed]",
      "text/plain": [
       "<Figure size 432x288 with 1 Axes>"
      ]
     },
     "metadata": {
      "needs_background": "light"
     },
     "output_type": "display_data"
    }
   ],
   "source": [
    "for col in numeric_cols:\n",
    "    sns.scatterplot(data= df[col])\n",
    "    plt.title(col)\n",
    "    plt.show()\n",
    "\n",
    "\n"
   ]
  },
  {
   "cell_type": "code",
   "execution_count": null,
   "metadata": {},
   "outputs": [],
   "source": []
  }
 ],
 "metadata": {
  "kernelspec": {
   "display_name": "Python 3",
   "language": "python",
   "name": "python3"
  },
  "language_info": {
   "codemirror_mode": {
    "name": "ipython",
    "version": 3
   },
   "file_extension": ".py",
   "mimetype": "text/x-python",
   "name": "python",
   "nbconvert_exporter": "python",
   "pygments_lexer": "ipython3",
   "version": "3.8.5"
  }
 },
 "nbformat": 4,
 "nbformat_minor": 4
}
